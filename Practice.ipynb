{
 "cells": [
  {
   "cell_type": "code",
   "execution_count": 4,
   "metadata": {},
   "outputs": [
    {
     "name": "stdout",
     "output_type": "stream",
     "text": [
      "[3, 2, 1]\n"
     ]
    }
   ],
   "source": [
    "def swapList(a):\n",
    "    temp = a[-1]\n",
    "    a[-1] = a[0]\n",
    "    a[0] = temp\n",
    "    return\n",
    "a = [1,2,3]\n",
    "swapList(a)\n",
    "print(a)"
   ]
  },
  {
   "cell_type": "code",
   "execution_count": 8,
   "metadata": {},
   "outputs": [
    {
     "name": "stdout",
     "output_type": "stream",
     "text": [
      "6 5\n"
     ]
    }
   ],
   "source": [
    "#swap two numbers without using 3rd variable\n",
    "a = 5\n",
    "b = 6\n",
    "a = a - b \n",
    "b = a + b\n",
    "a = b - a\n",
    "\n",
    "print(\"%d %d\"%(a,b))"
   ]
  },
  {
   "cell_type": "code",
   "execution_count": 17,
   "metadata": {},
   "outputs": [
    {
     "name": "stdout",
     "output_type": "stream",
     "text": [
      "[8, 8, 2, 1, 5]\n",
      "[8, 8, 2, 1, 5]\n",
      "[8, 8, 5, 1, 2]\n",
      "[8, 8, 5, 2, 1]\n",
      "[8, 8, 5, 2, 1]\n",
      "[8, 8, 5, 2, 1]\n"
     ]
    }
   ],
   "source": [
    "#finding N largest numbers\n",
    "a = [ 5, 8 ,2 ,1, 8]\n",
    "def Selection_Sort(a):\n",
    "    for i in range(0,len(a)):\n",
    "        temp = i\n",
    "        for j in range(i+1,len(a)):\n",
    "            #print(\"%d %d\"%(a[i],a[j]))\n",
    "            if(a[i]<a[j]):\n",
    "                temp = j\n",
    "        t1 = a[i]\n",
    "        a[i] = a[temp]\n",
    "        a[temp] = t1\n",
    "        print(a)\n",
    "    return a\n",
    "a = Selection_Sort(a)\n",
    "print(a)  "
   ]
  },
  {
   "cell_type": "code",
   "execution_count": 20,
   "metadata": {},
   "outputs": [
    {
     "name": "stdout",
     "output_type": "stream",
     "text": [
      "[5, 2, 1, 8, 8]\n",
      "[2, 1, 5, 8, 8]\n",
      "[1, 2, 5, 8, 8]\n",
      "[1, 2, 5, 8, 8]\n",
      "[1, 2, 5, 8, 8]\n"
     ]
    }
   ],
   "source": [
    "#finding N largest numbers\n",
    "a = [ 5, 8 ,2 ,1, 8]\n",
    "def Bubble_Sort(a):\n",
    "    for i in range(0,len(a)-1):\n",
    "        for j in range(0,len(a)-i-1):\n",
    "            #print(\"%d %d\"%(a[i],a[j]))\n",
    "            if(a[j]>a[j+1]):\n",
    "                t1 = a[j]\n",
    "                a[j] = a[j+1]\n",
    "                a[j+1] = t1\n",
    "        print(a)\n",
    "    return a\n",
    "a = Bubble_Sort(a)\n",
    "print(a)  "
   ]
  }
 ],
 "metadata": {
  "kernelspec": {
   "display_name": "Python 3",
   "language": "python",
   "name": "python3"
  },
  "language_info": {
   "codemirror_mode": {
    "name": "ipython",
    "version": 3
   },
   "file_extension": ".py",
   "mimetype": "text/x-python",
   "name": "python",
   "nbconvert_exporter": "python",
   "pygments_lexer": "ipython3",
   "version": "3.7.0"
  }
 },
 "nbformat": 4,
 "nbformat_minor": 2
}

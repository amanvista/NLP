{
 "cells": [
  {
   "cell_type": "code",
   "execution_count": 12,
   "metadata": {},
   "outputs": [
    {
     "name": "stdout",
     "output_type": "stream",
     "text": [
      "Hi 1\n",
      "my 2\n",
      "Name 1\n",
      "is 1\n",
      "Aman. 1\n",
      "I 1\n",
      "have 1\n",
      "things 1\n",
      "to 1\n",
      "do. 1\n"
     ]
    }
   ],
   "source": [
    "#Create a frequency distribution of words in a sentence\n",
    "sentence = \"Hi my Name is Aman. I have my things to do.\"\n",
    "tokens = sentence.split(\" \")\n",
    "dic = {}\n",
    "for i in tokens:\n",
    "    if(i in dic):\n",
    "        dic[i] += 1\n",
    "    else:\n",
    "        dic[i] = 1\n",
    "for i in dic:\n",
    "    print(\"%s %d\"%(i,dic[i]))\n",
    "    \n",
    "    "
   ]
  }
 ],
 "metadata": {
  "kernelspec": {
   "display_name": "Python 3",
   "language": "python",
   "name": "python3"
  },
  "language_info": {
   "codemirror_mode": {
    "name": "ipython",
    "version": 3
   },
   "file_extension": ".py",
   "mimetype": "text/x-python",
   "name": "python",
   "nbconvert_exporter": "python",
   "pygments_lexer": "ipython3",
   "version": "3.7.0"
  }
 },
 "nbformat": 4,
 "nbformat_minor": 2
}

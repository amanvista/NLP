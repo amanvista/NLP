{
 "cells": [
  {
   "cell_type": "code",
   "execution_count": 36,
   "metadata": {},
   "outputs": [
    {
     "name": "stdout",
     "output_type": "stream",
     "text": [
      " \n",
      "['romaine lettuce', 'black olives', 'grape tomatoes', 'garlic', 'pepper', 'purple onion', 'seasoning', 'garbanzo beans', 'feta cheese crumbles', 'plain flour', 'ground pepper', 'salt', 'tomatoes']\n",
      "4438\n"
     ]
    },
    {
     "data": {
      "text/plain": [
       "[('salt', 18049),\n",
       " ('onions', 7972),\n",
       " ('olive oil', 7972),\n",
       " ('water', 7457),\n",
       " ('garlic', 7380),\n",
       " ('sugar', 6434),\n",
       " ('garlic cloves', 6237),\n",
       " ('butter', 4848),\n",
       " ('ground black pepper', 4785),\n",
       " ('all-purpose flour', 4632)]"
      ]
     },
     "execution_count": 36,
     "metadata": {},
     "output_type": "execute_result"
    }
   ],
   "source": [
    "import zipfile\n",
    "import os\n",
    "import json\n",
    "\n",
    "if not os.path.isdir(\"Train_Data\"):\n",
    "    with zipfile.ZipFile(\"train.json.zip\") as zp:\n",
    "        zp.extractall(\"Train_Data\")\n",
    "        print(\"Not Found\")\n",
    "else:\n",
    "    print(\" \")\n",
    "\n",
    "f= open(\"Train_Data/train.json\",\"r\")\n",
    "train = json.load(f)\n",
    "\n",
    "#train is a dictionary containing ID,CUISINE and INGREDIENTS as values\n",
    "\n",
    "#print(train[5])\n",
    "raw_ingredients = []\n",
    "raw_cuisine = []\n",
    "\n",
    "for i in train:\n",
    "    for j in i['ingredients']:\n",
    "        raw_ingredients.append(j)\n",
    "    for k in i['cuisine']:\n",
    "        raw_cuisine.append(k)\n",
    "\n",
    "import collections as cl\n",
    "ingredient_count = cl.Counter(raw_ingredients)\n",
    "cuisine_count = cl.Counter(raw_cuisine)\n",
    "print(raw_ingredients[:13])\n",
    "print(ingredient_count['pepper'])\n",
    "\n",
    "ingredient_count.most_common(10)"
   ]
  },
  {
   "cell_type": "code",
   "execution_count": null,
   "metadata": {},
   "outputs": [],
   "source": [
    "import numpy as np\n"
   ]
  }
 ],
 "metadata": {
  "kernelspec": {
   "display_name": "Python 3",
   "language": "python",
   "name": "python3"
  },
  "language_info": {
   "codemirror_mode": {
    "name": "ipython",
    "version": 3
   },
   "file_extension": ".py",
   "mimetype": "text/x-python",
   "name": "python",
   "nbconvert_exporter": "python",
   "pygments_lexer": "ipython3",
   "version": "3.7.0"
  }
 },
 "nbformat": 4,
 "nbformat_minor": 2
}

{
 "cells": [
  {
   "cell_type": "code",
   "execution_count": 28,
   "metadata": {},
   "outputs": [
    {
     "name": "stdout",
     "output_type": "stream",
     "text": [
      "found\n",
      "{'id': 6602, 'cuisine': 'jamaican', 'ingredients': ['plain flour', 'sugar', 'butter', 'eggs', 'fresh ginger root', 'salt', 'ground cinnamon', 'milk', 'vanilla extract', 'ground ginger', 'powdered sugar', 'baking powder']}\n"
     ]
    }
   ],
   "source": [
    "import zipfile\n",
    "import os\n",
    "import json\n",
    "\n",
    "if not os.path.isdir(\"Train_Data\"):\n",
    "    with zipfile.ZipFile(\"train.json.zip\") as zp:\n",
    "        zp.extractall(\"Train_Data\")\n",
    "        print(\"Not Found\")\n",
    "else:\n",
    "    print(\"found\")\n",
    "\n",
    "f= open(\"Train_Data/train.json\",\"r\")\n",
    "train = json.load(f)\n",
    "\n",
    "#train is a dictionary containing ID,CUISINE and INGREDIENTS as values\n",
    "\n",
    "print(train[5])\n",
    "raw_ingredients = []\n",
    "raw_cuisine = []\n",
    "\n",
    "for i in train:\n",
    "    raw_ingredients.append(i['ingredients'])\n",
    "    raw_cuisine.append(i['cuisine'])\n",
    "    \n",
    "    "
   ]
  }
 ],
 "metadata": {
  "kernelspec": {
   "display_name": "Python 3",
   "language": "python",
   "name": "python3"
  },
  "language_info": {
   "codemirror_mode": {
    "name": "ipython",
    "version": 3
   },
   "file_extension": ".py",
   "mimetype": "text/x-python",
   "name": "python",
   "nbconvert_exporter": "python",
   "pygments_lexer": "ipython3",
   "version": "3.7.0"
  }
 },
 "nbformat": 4,
 "nbformat_minor": 2
}

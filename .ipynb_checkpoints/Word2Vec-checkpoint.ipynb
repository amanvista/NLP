{
 "cells": [
  {
   "cell_type": "code",
   "execution_count": 50,
   "metadata": {},
   "outputs": [
    {
     "name": "stdout",
     "output_type": "stream",
     "text": [
      " \n",
      "jamaican\n",
      "['romaine lettuce', 'black olives', 'grape tomatoes', 'garlic', 'pepper', 'purple onion', 'seasoning', 'garbanzo beans', 'feta cheese crumbles', 'plain flour', 'ground pepper', 'salt', 'tomatoes']\n",
      "4438\n"
     ]
    },
    {
     "data": {
      "text/plain": [
       "[('i', 41302),\n",
       " ('n', 38592),\n",
       " ('a', 37514),\n",
       " ('e', 30343),\n",
       " ('s', 17988),\n",
       " ('c', 17017),\n",
       " ('t', 15326),\n",
       " ('r', 13765),\n",
       " ('h', 13638),\n",
       " ('u', 10675)]"
      ]
     },
     "execution_count": 50,
     "metadata": {},
     "output_type": "execute_result"
    }
   ],
   "source": [
    "import zipfile\n",
    "import os\n",
    "import json\n",
    "\n",
    "if not os.path.isdir(\"Train_Data\"):\n",
    "    with zipfile.ZipFile(\"train.json.zip\") as zp:\n",
    "        zp.extractall(\"Train_Data\")\n",
    "        print(\"Not Found\")\n",
    "else:\n",
    "    print(\" \")\n",
    "\n",
    "f= open(\"Train_Data/train.json\",\"r\")\n",
    "train = json.load(f)\n",
    "\n",
    "#train is a dictionary containing ID,CUISINE and INGREDIENTS as values\n",
    "\n",
    "#print(train[5])\n",
    "print(train[5])\n",
    "raw_ingredients = []\n",
    "raw_cuisine = []\n",
    "\n",
    "for i in train:\n",
    "    for j in i['ingredients']:\n",
    "        raw_ingredients.append(j)\n",
    "    for k in i['cuisine']:\n",
    "        raw_cuisine.append(k)\n",
    "\n",
    "import collections as cl\n",
    "ingredient_count = cl.Counter(raw_ingredients)\n",
    "cuisine_count = cl.Counter(raw_cuisine)\n",
    "print(raw_ingredients[:13])\n",
    "print(ingredient_count['pepper'])\n",
    "\n",
    "ingredient_count.most_common(10)\n",
    "cuisine_count.most_common(10)"
   ]
  },
  {
   "cell_type": "code",
   "execution_count": 48,
   "metadata": {},
   "outputs": [
    {
     "name": "stdout",
     "output_type": "stream",
     "text": [
      "[('i', 41302), ('n', 38592), ('a', 37514)]\n"
     ]
    },
    {
     "data": {
      "image/png": "[encoded data removed]",
      "text/plain": [
       "<Figure size 432x288 with 1 Axes>"
      ]
     },
     "metadata": {
      "needs_background": "light"
     },
     "output_type": "display_data"
    }
   ],
   "source": [
    "import numpy as np\n",
    "np.mean(list(cuisine_count.values()))\n",
    "np.std(list(cuisine_count.values()))\n",
    "\n",
    "import seaborn as sns\n",
    "\n",
    "x_cuisine = [cuisine for cuisine,freq in cuisine_count.most_common()]\n",
    "y_freq = [freq for cuisine,freq in cuisine_count.most_common()]\n",
    "x = sns.barplot(x = x_cuisine,y = y_freq)\n",
    "\n",
    "for item in x.get_xticklabels():\n",
    "    item.set_rotation(90)\n",
    "print(cuisine_count.most_common(3))"
   ]
  }
 ],
 "metadata": {
  "kernelspec": {
   "display_name": "Python 3",
   "language": "python",
   "name": "python3"
  },
  "language_info": {
   "codemirror_mode": {
    "name": "ipython",
    "version": 3
   },
   "file_extension": ".py",
   "mimetype": "text/x-python",
   "name": "python",
   "nbconvert_exporter": "python",
   "pygments_lexer": "ipython3",
   "version": "3.7.0"
  }
 },
 "nbformat": 4,
 "nbformat_minor": 2
}
